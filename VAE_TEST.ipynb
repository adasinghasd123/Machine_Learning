{
  "nbformat": 4,
  "nbformat_minor": 0,
  "metadata": {
    "colab": {
      "provenance": [],
      "include_colab_link": true
    },
    "kernelspec": {
      "name": "python3",
      "display_name": "Python 3"
    },
    "language_info": {
      "name": "python"
    }
  },
  "cells": [
    {
      "cell_type": "markdown",
      "metadata": {
        "id": "view-in-github",
        "colab_type": "text"
      },
      "source": [
        "<a href=\"https://colab.research.google.com/github/adasinghasd123/Machine_Learning/blob/main/VAE_TEST.ipynb\" target=\"_parent\"><img src=\"https://colab.research.google.com/assets/colab-badge.svg\" alt=\"Open In Colab\"/></a>"
      ]
    },
    {
      "cell_type": "code",
      "source": [
        "#importing the required package\n",
        "import os\n",
        "import cv2\n",
        "import numpy as np\n",
        "import matplotlib.pyplot as plt\n",
        "import tensorflow as tf; tf.compat.v1.disable_eager_execution()\n",
        "from keras import backend as K\n",
        "from keras.layers import Input, Dense, Conv2D, Conv2DTranspose, Flatten, Lambda, Reshape\n",
        "from keras.models import Model\n",
        "from keras.losses import binary_crossentropy\n",
        "\n",
        "#importing the dataset from keras\n",
        "from keras.datasets import mnist\n",
        "\n",
        "\n",
        "np.random.seed(25)\n",
        "tf.executing_eagerly()"
      ],
      "metadata": {
        "id": "-D9ZaZr2YUZS",
        "colab": {
          "base_uri": "https://localhost:8080/"
        },
        "outputId": "d19195f9-afb6-455f-ce20-824e2819db14"
      },
      "execution_count": 1,
      "outputs": [
        {
          "output_type": "execute_result",
          "data": {
            "text/plain": [
              "False"
            ]
          },
          "metadata": {},
          "execution_count": 1
        }
      ]
    },
    {
      "cell_type": "code",
      "source": [
        "#toring the dataset in X_train and X_test\n",
        "\n",
        "(X_train, y_train), (X_test, y_test) = mnist.load_data()"
      ],
      "metadata": {
        "colab": {
          "base_uri": "https://localhost:8080/"
        },
        "id": "Y4woiVuOTqyu",
        "outputId": "0655f8f7-38b7-4844-d39d-dfbc2df8c16e"
      },
      "execution_count": 2,
      "outputs": [
        {
          "output_type": "stream",
          "name": "stdout",
          "text": [
            "Downloading data from https://storage.googleapis.com/tensorflow/tf-keras-datasets/mnist.npz\n",
            "11490434/11490434 [==============================] - 0s 0us/step\n"
          ]
        }
      ]
    },
    {
      "cell_type": "code",
      "source": [
        "#show images at index 130 to 139 taken from X_train array\n",
        "fig, axes = plt.subplots(ncols=10, sharex=False,\n",
        "    sharey=True, figsize=(20, 7))\n",
        "counter = 0\n",
        "for i in range(130, 140):\n",
        "    axes[counter].set_title(y_train[i])\n",
        "    axes[counter].imshow(X_train[i], cmap='gray')\n",
        "    axes[counter].get_xaxis().set_visible(False)\n",
        "    axes[counter].get_yaxis().set_visible(False)\n",
        "    counter += 1\n",
        "plt.show()"
      ],
      "metadata": {
        "colab": {
          "base_uri": "https://localhost:8080/",
          "height": 145
        },
        "id": "mkjH4BtCTuCs",
        "outputId": "e9c8e179-579b-4860-b51c-cdd447ed66e5"
      },
      "execution_count": 3,
      "outputs": [
        {
          "output_type": "display_data",
          "data": {
            "text/plain": [
              "<Figure size 1440x504 with 10 Axes>"
            ],
            "image/png": "[encoded data removed]"
          },
          "metadata": {
            "needs_background": "light"
          }
        }
      ]
    },
    {
      "cell_type": "code",
      "source": [
        "X_train.shape\n"
      ],
      "metadata": {
        "colab": {
          "base_uri": "https://localhost:8080/"
        },
        "id": "kkXQy2AfT6c_",
        "outputId": "817b2c43-e99a-4b5c-af07-a243b21664c4"
      },
      "execution_count": 4,
      "outputs": [
        {
          "output_type": "execute_result",
          "data": {
            "text/plain": [
              "(60000, 28, 28)"
            ]
          },
          "metadata": {},
          "execution_count": 4
        }
      ]
    },
    {
      "cell_type": "code",
      "source": [
        "y_train.shape"
      ],
      "metadata": {
        "colab": {
          "base_uri": "https://localhost:8080/"
        },
        "id": "Ztz4TV24U2NX",
        "outputId": "81c4f4c9-0cfc-4fac-8825-abd7716361e7"
      },
      "execution_count": 5,
      "outputs": [
        {
          "output_type": "execute_result",
          "data": {
            "text/plain": [
              "(60000,)"
            ]
          },
          "metadata": {},
          "execution_count": 5
        }
      ]
    },
    {
      "cell_type": "code",
      "source": [
        "X_test.shape"
      ],
      "metadata": {
        "colab": {
          "base_uri": "https://localhost:8080/"
        },
        "id": "Q_xWsWRYVCJM",
        "outputId": "ecf11ce9-1c5b-4d34-9aa1-820c8766ee7b"
      },
      "execution_count": 6,
      "outputs": [
        {
          "output_type": "execute_result",
          "data": {
            "text/plain": [
              "(10000, 28, 28)"
            ]
          },
          "metadata": {},
          "execution_count": 6
        }
      ]
    },
    {
      "cell_type": "code",
      "source": [
        "y_test.shape"
      ],
      "metadata": {
        "colab": {
          "base_uri": "https://localhost:8080/"
        },
        "id": "Hvwr3_R7VGdi",
        "outputId": "15545004-44ba-420b-ba21-a8c9d5cd8605"
      },
      "execution_count": 7,
      "outputs": [
        {
          "output_type": "execute_result",
          "data": {
            "text/plain": [
              "(10000,)"
            ]
          },
          "metadata": {},
          "execution_count": 7
        }
      ]
    },
    {
      "cell_type": "code",
      "source": [
        "#normalize the pixel in range of 0 to 1 instead of 0 to 255\n",
        "X_train = X_train/255\n",
        "X_test = X_test/255   "
      ],
      "metadata": {
        "id": "qz8vXtQXVJLL"
      },
      "execution_count": 8,
      "outputs": []
    },
    {
      "cell_type": "code",
      "source": [
        "print(X_train.shape)\n",
        "print(X_test.shape)"
      ],
      "metadata": {
        "colab": {
          "base_uri": "https://localhost:8080/"
        },
        "id": "d80WhJRKVN5-",
        "outputId": "bb10f335-64bb-4b50-c259-5caf8c6452bc"
      },
      "execution_count": 9,
      "outputs": [
        {
          "output_type": "stream",
          "name": "stdout",
          "text": [
            "(60000, 28, 28)\n",
            "(10000, 28, 28)\n"
          ]
        }
      ]
    },
    {
      "cell_type": "code",
      "source": [
        "# Convert from (no_of_data, 28, 28) to (no_of_data, 28, 28, 1)\n",
        "X_train_new = X_train.reshape(X_train.shape[0], X_train.shape[1], X_train.shape[2], 1)\n",
        "X_test_new = X_test.reshape(X_test.shape[0], X_test.shape[1], X_test.shape[2], 1)"
      ],
      "metadata": {
        "id": "9RUHe4DOVgxN"
      },
      "execution_count": 10,
      "outputs": []
    },
    {
      "cell_type": "code",
      "source": [
        "print(X_train_new.shape)\n",
        "print(X_test_new.shape)"
      ],
      "metadata": {
        "colab": {
          "base_uri": "https://localhost:8080/"
        },
        "id": "jM4d_BaZWDAs",
        "outputId": "9bd1c4d4-a2e0-453e-d317-ba394b96a9d4"
      },
      "execution_count": 11,
      "outputs": [
        {
          "output_type": "stream",
          "name": "stdout",
          "text": [
            "(60000, 28, 28, 1)\n",
            "(10000, 28, 28, 1)\n"
          ]
        }
      ]
    },
    {
      "cell_type": "markdown",
      "source": [
        "**Now we are going to construct VAE architecture**"
      ],
      "metadata": {
        "id": "M7TIrdh-WfCo"
      }
    },
    {
      "cell_type": "code",
      "source": [
        "#Constructing encoder\n",
        "\n",
        "#defining some variables\n",
        "img_height   = X_train_new.shape[1]    # 28\n",
        "img_width    = X_train_new.shape[2]    # 28\n",
        "num_channels = X_train_new.shape[3]    # 1\n",
        "input_shape =  (img_height, img_width, num_channels)   # (28,28,1)\n",
        "latent_dim = 2    # Dimension of the latent space"
      ],
      "metadata": {
        "id": "WV2kcWGgWONE"
      },
      "execution_count": 12,
      "outputs": []
    },
    {
      "cell_type": "markdown",
      "source": [
        "1.using Sequential API\n",
        "Here we create the model layer-by-layer. It is very simple and easy to use. But sharing of layers or branching of layers is not allowed (We will see what sharing or branching means later). Also, you can’t have multiple inputs or outputs.\n",
        "\n",
        "---\n",
        "   2.using Functional API\n",
        "It is more flexible than the sequential API. It is more powerful than the sequential API in the sense branching or sharing of layers is allowed here. And also it can have multiple inputs and outputs.\n"
      ],
      "metadata": {
        "id": "jUBMBMWrXH5W"
      }
    },
    {
      "cell_type": "code",
      "source": [
        "#we are using Functioanl approach\n",
        "\n",
        "\n",
        "#input layer\n",
        "encoder_input = Input(shape=input_shape)\n",
        "\n",
        "# 2 convolution layers\n",
        "encoder_conv = Conv2D(filters=8, kernel_size=3, strides=2, \n",
        "                padding='same', activation='relu')(encoder_input)\n",
        "encoder_conv = Conv2D(filters=16, kernel_size=3, strides=2, \n",
        "                padding='same', activation='relu')(encoder_input)\n",
        "\n",
        "# Flatten layer to reshape all data into a single one-dimensional array\n",
        "encoder = Flatten()(encoder_conv)\n",
        "\n",
        "# now connected to mu and sigma layer, each  having 2 neurons\n",
        "mu = Dense(latent_dim)(encoder)\n",
        "sigma = Dense(latent_dim)(encoder)"
      ],
      "metadata": {
        "id": "vv96HlfuW0i-"
      },
      "execution_count": 13,
      "outputs": []
    },
    {
      "cell_type": "code",
      "source": [
        "#Now we need to  define a function called compute_latent() which is going to be used to determine the values in the latent space layer.\n",
        "\n",
        "def compute_latent(x):\n",
        "    mu, sigma = x\n",
        "    batch = K.shape(mu)[0]\n",
        "    dim = K.int_shape(mu)[1]\n",
        "    eps = K.random_normal(shape=(batch,dim))\n",
        "    return mu + K.exp(sigma/2)*eps"
      ],
      "metadata": {
        "id": "RLvXsfC1XXBr"
      },
      "execution_count": 14,
      "outputs": []
    },
    {
      "cell_type": "code",
      "source": [
        "#Lambda layer\n",
        "#reparameterization trick\n",
        "\n",
        "latent_space = Lambda(compute_latent, output_shape=(latent_dim,))([mu, sigma])"
      ],
      "metadata": {
        "id": "rgRqL0-oYYrh"
      },
      "execution_count": 15,
      "outputs": []
    },
    {
      "cell_type": "code",
      "source": [
        "#shape of convolution layer in conv_shape\n",
        "conv_shape = K.int_shape(encoder_conv)\n",
        "print(conv_shape)"
      ],
      "metadata": {
        "colab": {
          "base_uri": "https://localhost:8080/"
        },
        "id": "MFSgzRGVZACJ",
        "outputId": "46403d2d-2336-4c9b-a0c9-973ce7df774e"
      },
      "execution_count": 16,
      "outputs": [
        {
          "output_type": "stream",
          "name": "stdout",
          "text": [
            "(None, 14, 14, 16)\n"
          ]
        }
      ]
    },
    {
      "cell_type": "code",
      "source": [
        "#Constructing decoder\n",
        "\n",
        "decoder_input = Input(shape=(latent_dim,))\n",
        "decoder = Dense(conv_shape[1]*conv_shape[2]*conv_shape[3], activation='relu')(decoder_input)\n",
        "decoder = Reshape((conv_shape[1], conv_shape[2], conv_shape[3]))(decoder)\n",
        "\n",
        "#Conv2DTranspose for inverse transformation of the standard Conv2D layer\n",
        "decoder_conv = Conv2DTranspose(filters=16, kernel_size=3, strides=2, \n",
        "                           padding='same', activation='relu')(decoder)\n",
        "decoder_conv = Conv2DTranspose(filters=8, kernel_size=3, strides=2, \n",
        "                           padding='same', activation='relu')(decoder)\n",
        "decoder_conv =  Conv2DTranspose(filters=num_channels, kernel_size=3, \n",
        "                          padding='same', activation='sigmoid')(decoder_conv)"
      ],
      "metadata": {
        "id": "NEw0HUlgabuG"
      },
      "execution_count": 17,
      "outputs": []
    },
    {
      "cell_type": "code",
      "source": [
        "#Connecting the encoder and decoder\n",
        "\n",
        "encoder = Model(encoder_input, latent_space)\n",
        "decoder = Model(decoder_input, decoder_conv)"
      ],
      "metadata": {
        "id": "80afg2wTbZaM"
      },
      "execution_count": 18,
      "outputs": []
    },
    {
      "cell_type": "code",
      "source": [
        "#still, the encoder and decoder part are not connected just yet. So we need to link the two in order to construct the entire VAE\n",
        "#output of vae model is the output of decoder in which its input is taken from the output of encoder\n",
        "vae = Model(encoder_input, decoder(encoder(encoder_input)))"
      ],
      "metadata": {
        "id": "IBoRT9XbbcgQ"
      },
      "execution_count": 21,
      "outputs": []
    },
    {
      "cell_type": "code",
      "source": [
        "# The loss function for VAE\n",
        "def kl_reconstruction_loss(true, pred):\n",
        "    # Reconstruction loss (binary crossentropy)\n",
        "    reconstruction_loss = binary_crossentropy(K.flatten(true), K.flatten(pred)) * img_width * img_height\n",
        "\n",
        "    # KL divergence loss\n",
        "    kl_loss = 1 + sigma - K.square(mu) - K.exp(sigma)\n",
        "    kl_loss = K.sum(kl_loss, axis=-1)\n",
        "    kl_loss *= -0.5\n",
        "    # Total loss = 50% rec + 50% KL divergence loss\n",
        "    return K.mean(reconstruction_loss + kl_loss)"
      ],
      "metadata": {
        "id": "uAgQuAIcybsH"
      },
      "execution_count": 22,
      "outputs": []
    },
    {
      "cell_type": "code",
      "source": [
        "# Compile the model using KL loss\n",
        "vae.compile(optimizer='adam', loss=kl_reconstruction_loss)"
      ],
      "metadata": {
        "id": "uRwDXir_cH4A"
      },
      "execution_count": 23,
      "outputs": []
    },
    {
      "cell_type": "code",
      "source": [
        "# Training VAE\n",
        "history = vae.fit(x=X_train_new, y=X_train_new, epochs=10, batch_size=32, validation_data=(X_test_new,X_test_new))"
      ],
      "metadata": {
        "id": "9O5kW68HyJuK",
        "outputId": "ce86d076-073a-4a26-b61f-aafec713a1d9",
        "colab": {
          "base_uri": "https://localhost:8080/"
        }
      },
      "execution_count": null,
      "outputs": [
        {
          "output_type": "stream",
          "name": "stdout",
          "text": [
            "Train on 60000 samples, validate on 10000 samples\n",
            "Epoch 1/10\n",
            "60000/60000 [==============================] - ETA: 0s - loss: 181.2097"
          ]
        },
        {
          "output_type": "stream",
          "name": "stderr",
          "text": [
            "/usr/local/lib/python3.8/dist-packages/keras/engine/training_v1.py:2045: UserWarning: `Model.state_updates` will be removed in a future version. This property should not be used in TensorFlow 2.0, as `updates` are applied automatically.\n",
            "  updates = self.state_updates\n"
          ]
        },
        {
          "output_type": "stream",
          "name": "stdout",
          "text": [
            "\b\b\b\b\b\b\b\b\b\b\b\b\b\b\b\b\b\b\b\b\b\b\b\b\b\b\b\b\b\b\b\b\b\b\b\b\b\b\b\b\b\b\b\b\b\b\b\b\b\b\b\b\b\b\b\b\b\b\b\b\b\b\b\b\b\b\b\b\b\b\b\r60000/60000 [==============================] - 49s 820us/sample - loss: 181.2097 - val_loss: 169.8791\n",
            "Epoch 2/10\n",
            "60000/60000 [==============================] - 43s 711us/sample - loss: 168.2523 - val_loss: 167.1095\n",
            "Epoch 3/10\n",
            "60000/60000 [==============================] - 47s 789us/sample - loss: 166.3878 - val_loss: 165.4754\n",
            "Epoch 4/10\n",
            "60000/60000 [==============================] - 40s 670us/sample - loss: 165.2976 - val_loss: 164.7062\n",
            "Epoch 5/10\n",
            " 2752/60000 [>.............................] - ETA: 36s - loss: 163.7202"
          ]
        }
      ]
    },
    {
      "cell_type": "code",
      "source": [
        "# Plotting loss value decrease\n",
        "plt.plot(history.history['loss'])\n",
        "plt.plot(history.history['val_loss'])"
      ],
      "metadata": {
        "id": "X2zod1r3yo77"
      },
      "execution_count": null,
      "outputs": []
    },
    {
      "cell_type": "code",
      "source": [
        "# Transform images to points in latent space using encoder\n",
        "encoded = encoder.predict(X_train_new)\n"
      ],
      "metadata": {
        "id": "h469RfityrQ4"
      },
      "execution_count": null,
      "outputs": []
    },
    {
      "cell_type": "code",
      "source": [
        "# Displaying images in latent space\n",
        "plt.figure(figsize=(14,12))\n",
        "plt.scatter(encoded[:,0], encoded[:,1], s=2, c=y_train, cmap='hsv')\n",
        "plt.colorbar()\n",
        "plt.grid()\n",
        "plt.show()"
      ],
      "metadata": {
        "id": "bazBhyvny0KM"
      },
      "execution_count": null,
      "outputs": []
    },
    {
      "cell_type": "code",
      "source": [
        "# A function to display image sequence\n",
        "def display_image_sequence(x_start, y_start, x_end, y_end, no_of_imgs):\n",
        "    x_axis = np.linspace(x_start,x_end,no_of_imgs)\n",
        "    y_axis = np.linspace(y_start,y_end,no_of_imgs)\n",
        "    \n",
        "    x_axis = x_axis[:, np.newaxis]\n",
        "    y_axis = y_axis[:, np.newaxis]\n",
        "    \n",
        "    new_points = np.hstack((x_axis, y_axis))\n",
        "    new_images = decoder.predict(new_points)\n",
        "    new_images = new_images.reshape(new_images.shape[0], new_images.shape[1], new_images.shape[2])\n",
        "    \n",
        "    # Display some images\n",
        "    fig, axes = plt.subplots(ncols=no_of_imgs, sharex=False,\n",
        "                             sharey=True, figsize=(20, 7))\n",
        "    counter = 0\n",
        "    for i in range(no_of_imgs):\n",
        "        axes[counter].imshow(new_images[i], cmap='gray')\n",
        "        axes[counter].get_xaxis().set_visible(False)\n",
        "        axes[counter].get_yaxis().set_visible(False)\n",
        "        counter += 1\n",
        "    plt.show()"
      ],
      "metadata": {
        "id": "qCC_CHwSy0eX"
      },
      "execution_count": null,
      "outputs": []
    },
    {
      "cell_type": "code",
      "source": [
        "# Displaying several new images\n",
        "# Starting point=(0,2), end point=(2,0)\n",
        "display_image_sequence(0,2,2,0,9)\n",
        "\n",
        "# Starting point=(-2,1), end point=(0,2)\n",
        "display_image_sequence(-2,1,0,2,9)\n",
        "\n",
        "# Starting point=(0,-2), end point=(0,2)\n",
        "display_image_sequence(0,-2,0,2,19)"
      ],
      "metadata": {
        "id": "x0DVpnajzGuZ"
      },
      "execution_count": null,
      "outputs": []
    },
    {
      "cell_type": "code",
      "source": [],
      "metadata": {
        "id": "x6fPdQKHzLfW"
      },
      "execution_count": null,
      "outputs": []
    }
  ]
}